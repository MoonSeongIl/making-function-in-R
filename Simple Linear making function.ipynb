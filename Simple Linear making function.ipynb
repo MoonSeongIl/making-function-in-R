{
 "cells": [
  {
   "cell_type": "code",
   "execution_count": 1,
   "id": "278b593e",
   "metadata": {},
   "outputs": [],
   "source": [
    "import numpy as np\n",
    "import matplotlib.pyplot as plt\n",
    "from scipy.special import erf\n",
    "import pandas as pd"
   ]
  },
  {
   "cell_type": "code",
   "execution_count": 2,
   "id": "7246e30d",
   "metadata": {},
   "outputs": [],
   "source": [
    "m = 0\n",
    "sigma=1"
   ]
  },
  {
   "cell_type": "code",
   "execution_count": 3,
   "id": "011b4127",
   "metadata": {},
   "outputs": [],
   "source": [
    "X = np.random.normal(m,sigma,10000)\n",
    "e = np.random.normal(m,sigma,10000)\n",
    "y = X+e"
   ]
  },
  {
   "cell_type": "code",
   "execution_count": 4,
   "id": "3e620b9a",
   "metadata": {},
   "outputs": [],
   "source": [
    "def linear_function(X,y):\n",
    "    X = X.reshape(-1,1)\n",
    "    y = y.reshape(-1,1)\n",
    "    one_vector = np.ones(10000).reshape(-1,1)\n",
    "    \n",
    "    X = np.hstack((one_vector,X))\n",
    "    \n",
    "    Bhat = np.dot(np.linalg.inv(np.dot(X.T,X)),np.dot(X.T,y))\n",
    "    Bhat = Bhat.T\n",
    "    result = pd.DataFrame({'B0':Bhat.reshape(-1,1)[0],\n",
    "             'B1':Bhat.reshape(-1,1)[1]})\n",
    "    print(result)"
   ]
  },
  {
   "cell_type": "code",
   "execution_count": 5,
   "id": "f2296a4f",
   "metadata": {},
   "outputs": [
    {
     "name": "stdout",
     "output_type": "stream",
     "text": [
      "         B0        B1\n",
      "0  0.008595  0.989022\n"
     ]
    }
   ],
   "source": [
    "linear_function(X,y)"
   ]
  },
  {
   "cell_type": "code",
   "execution_count": null,
   "id": "cc5c0d63",
   "metadata": {},
   "outputs": [],
   "source": []
  }
 ],
 "metadata": {
  "kernelspec": {
   "display_name": "Python 3",
   "language": "python",
   "name": "python3"
  },
  "language_info": {
   "codemirror_mode": {
    "name": "ipython",
    "version": 3
   },
   "file_extension": ".py",
   "mimetype": "text/x-python",
   "name": "python",
   "nbconvert_exporter": "python",
   "pygments_lexer": "ipython3",
   "version": "3.8.8"
  }
 },
 "nbformat": 4,
 "nbformat_minor": 5
}
